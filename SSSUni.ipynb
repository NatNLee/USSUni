{
 "cells": [
  {
   "cell_type": "code",
   "execution_count": 1,
   "metadata": {},
   "outputs": [],
   "source": [
    "import numpy as np \n",
    "import pandas as pd\n",
    "from matplotlib import pyplot as plt\n",
    "import seaborn as sns"
   ]
  },
  {
   "cell_type": "code",
   "execution_count": 2,
   "metadata": {},
   "outputs": [],
   "source": [
    "# remove rows with notes ('Start Here', 'Average', 'Source') at the top of the original .csv, delete 'Ranking List Column', delete spaces and non alpha characters in column names in Excel\n",
    "# > load edited .csv"
   ]
  },
  {
   "cell_type": "code",
   "execution_count": 3,
   "metadata": {},
   "outputs": [],
   "source": [
    "df = pd.read_csv('~/Copy of US Higher Education_ Value vs. Vulnerability - dataset.csv')"
   ]
  },
  {
   "cell_type": "code",
   "execution_count": 4,
   "metadata": {},
   "outputs": [
    {
     "data": {
      "text/html": [
       "<div>\n",
       "<style scoped>\n",
       "    .dataframe tbody tr th:only-of-type {\n",
       "        vertical-align: middle;\n",
       "    }\n",
       "\n",
       "    .dataframe tbody tr th {\n",
       "        vertical-align: top;\n",
       "    }\n",
       "\n",
       "    .dataframe thead th {\n",
       "        text-align: right;\n",
       "    }\n",
       "</style>\n",
       "<table border=\"1\" class=\"dataframe\">\n",
       "  <thead>\n",
       "    <tr style=\"text-align: right;\">\n",
       "      <th></th>\n",
       "      <th>InstitutionName</th>\n",
       "      <th>FullTimeEnrollment</th>\n",
       "      <th>State</th>\n",
       "      <th>Rank</th>\n",
       "      <th>RankPctRank</th>\n",
       "      <th>UndergraduateAdmitRate</th>\n",
       "      <th>UndergraduateAdmitRatePctRank</th>\n",
       "      <th>AverageMonthlySearchVolume</th>\n",
       "      <th>AverageMonthlySearchVolumePctRank</th>\n",
       "      <th>CredentialScore</th>\n",
       "      <th>...</th>\n",
       "      <th>AverageUndergraduateTuitionandFees</th>\n",
       "      <th>AverageUndergraduateTuitionFeesScore</th>\n",
       "      <th>Value</th>\n",
       "      <th>ValuetoCostRatio</th>\n",
       "      <th>EndowmentperFullTimeStudent</th>\n",
       "      <th>EndowmentperFullTimeStudentPctRank</th>\n",
       "      <th>PercentageofInternationalStudents</th>\n",
       "      <th>PercentageofInternationalStudentsPCTRank</th>\n",
       "      <th>VulnerabilityScore</th>\n",
       "      <th>ProfGCategorization</th>\n",
       "    </tr>\n",
       "  </thead>\n",
       "  <tbody>\n",
       "    <tr>\n",
       "      <th>0</th>\n",
       "      <td>Adelphi University</td>\n",
       "      <td>6,562</td>\n",
       "      <td>NY</td>\n",
       "      <td>166</td>\n",
       "      <td>0.28</td>\n",
       "      <td>74%</td>\n",
       "      <td>0.29</td>\n",
       "      <td>60,500</td>\n",
       "      <td>0.70</td>\n",
       "      <td>1.27</td>\n",
       "      <td>...</td>\n",
       "      <td>$38,740</td>\n",
       "      <td>0.51</td>\n",
       "      <td>5.82</td>\n",
       "      <td>0.42</td>\n",
       "      <td>$28,738</td>\n",
       "      <td>0.70</td>\n",
       "      <td>3%</td>\n",
       "      <td>0.39</td>\n",
       "      <td>1.09</td>\n",
       "      <td>Perish</td>\n",
       "    </tr>\n",
       "    <tr>\n",
       "      <th>1</th>\n",
       "      <td>Agnes Scott College</td>\n",
       "      <td>998</td>\n",
       "      <td>GA</td>\n",
       "      <td>58</td>\n",
       "      <td>0.74</td>\n",
       "      <td>70%</td>\n",
       "      <td>0.38</td>\n",
       "      <td>14,800</td>\n",
       "      <td>0.19</td>\n",
       "      <td>1.32</td>\n",
       "      <td>...</td>\n",
       "      <td>$41,160</td>\n",
       "      <td>0.57</td>\n",
       "      <td>2.92</td>\n",
       "      <td>0.19</td>\n",
       "      <td>$229,886</td>\n",
       "      <td>0.16</td>\n",
       "      <td>4%</td>\n",
       "      <td>0.50</td>\n",
       "      <td>0.66</td>\n",
       "      <td>Struggle</td>\n",
       "    </tr>\n",
       "    <tr>\n",
       "      <th>2</th>\n",
       "      <td>Albion College</td>\n",
       "      <td>1,509</td>\n",
       "      <td>MI</td>\n",
       "      <td>140</td>\n",
       "      <td>0.38</td>\n",
       "      <td>68%</td>\n",
       "      <td>0.43</td>\n",
       "      <td>18,100</td>\n",
       "      <td>0.26</td>\n",
       "      <td>1.06</td>\n",
       "      <td>...</td>\n",
       "      <td>$45,590</td>\n",
       "      <td>0.68</td>\n",
       "      <td>2.28</td>\n",
       "      <td>0.12</td>\n",
       "      <td>$115,513</td>\n",
       "      <td>0.32</td>\n",
       "      <td>1%</td>\n",
       "      <td>0.07</td>\n",
       "      <td>0.39</td>\n",
       "      <td>Struggle</td>\n",
       "    </tr>\n",
       "    <tr>\n",
       "      <th>3</th>\n",
       "      <td>Allegheny College</td>\n",
       "      <td>1,724</td>\n",
       "      <td>PA</td>\n",
       "      <td>82</td>\n",
       "      <td>0.64</td>\n",
       "      <td>64%</td>\n",
       "      <td>0.52</td>\n",
       "      <td>22,200</td>\n",
       "      <td>0.33</td>\n",
       "      <td>1.49</td>\n",
       "      <td>...</td>\n",
       "      <td>$47,540</td>\n",
       "      <td>0.72</td>\n",
       "      <td>5.43</td>\n",
       "      <td>0.28</td>\n",
       "      <td>$128,095</td>\n",
       "      <td>0.29</td>\n",
       "      <td>4%</td>\n",
       "      <td>0.50</td>\n",
       "      <td>0.79</td>\n",
       "      <td>Struggle</td>\n",
       "    </tr>\n",
       "    <tr>\n",
       "      <th>4</th>\n",
       "      <td>American University</td>\n",
       "      <td>11,435</td>\n",
       "      <td>DC</td>\n",
       "      <td>77</td>\n",
       "      <td>0.66</td>\n",
       "      <td>32%</td>\n",
       "      <td>0.84</td>\n",
       "      <td>110,000</td>\n",
       "      <td>0.87</td>\n",
       "      <td>2.37</td>\n",
       "      <td>...</td>\n",
       "      <td>$48,459</td>\n",
       "      <td>0.74</td>\n",
       "      <td>9.02</td>\n",
       "      <td>0.45</td>\n",
       "      <td>$59,154</td>\n",
       "      <td>0.51</td>\n",
       "      <td>3%</td>\n",
       "      <td>0.39</td>\n",
       "      <td>0.90</td>\n",
       "      <td>Thrive</td>\n",
       "    </tr>\n",
       "    <tr>\n",
       "      <th>...</th>\n",
       "      <td>...</td>\n",
       "      <td>...</td>\n",
       "      <td>...</td>\n",
       "      <td>...</td>\n",
       "      <td>...</td>\n",
       "      <td>...</td>\n",
       "      <td>...</td>\n",
       "      <td>...</td>\n",
       "      <td>...</td>\n",
       "      <td>...</td>\n",
       "      <td>...</td>\n",
       "      <td>...</td>\n",
       "      <td>...</td>\n",
       "      <td>...</td>\n",
       "      <td>...</td>\n",
       "      <td>...</td>\n",
       "      <td>...</td>\n",
       "      <td>...</td>\n",
       "      <td>...</td>\n",
       "      <td>...</td>\n",
       "      <td>...</td>\n",
       "    </tr>\n",
       "    <tr>\n",
       "      <th>433</th>\n",
       "      <td>Wittenberg University</td>\n",
       "      <td>1,693</td>\n",
       "      <td>OH</td>\n",
       "      <td>160</td>\n",
       "      <td>0.30</td>\n",
       "      <td>74%</td>\n",
       "      <td>0.30</td>\n",
       "      <td>18,100</td>\n",
       "      <td>0.26</td>\n",
       "      <td>0.86</td>\n",
       "      <td>...</td>\n",
       "      <td>$39,500</td>\n",
       "      <td>0.52</td>\n",
       "      <td>0.82</td>\n",
       "      <td>0.06</td>\n",
       "      <td>$68,491</td>\n",
       "      <td>0.45</td>\n",
       "      <td>1%</td>\n",
       "      <td>0.07</td>\n",
       "      <td>0.52</td>\n",
       "      <td>Struggle</td>\n",
       "    </tr>\n",
       "    <tr>\n",
       "      <th>434</th>\n",
       "      <td>Wofford College</td>\n",
       "      <td>1,653</td>\n",
       "      <td>SC</td>\n",
       "      <td>72</td>\n",
       "      <td>0.68</td>\n",
       "      <td>64%</td>\n",
       "      <td>0.52</td>\n",
       "      <td>27,100</td>\n",
       "      <td>0.42</td>\n",
       "      <td>1.61</td>\n",
       "      <td>...</td>\n",
       "      <td>$43,985</td>\n",
       "      <td>0.64</td>\n",
       "      <td>6.01</td>\n",
       "      <td>0.35</td>\n",
       "      <td>$124,616</td>\n",
       "      <td>0.30</td>\n",
       "      <td>3%</td>\n",
       "      <td>0.39</td>\n",
       "      <td>0.69</td>\n",
       "      <td>Struggle</td>\n",
       "    </tr>\n",
       "    <tr>\n",
       "      <th>435</th>\n",
       "      <td>Worcester Polytechnic Institute</td>\n",
       "      <td>5,371</td>\n",
       "      <td>MA</td>\n",
       "      <td>64</td>\n",
       "      <td>0.72</td>\n",
       "      <td>42%</td>\n",
       "      <td>0.76</td>\n",
       "      <td>40,500</td>\n",
       "      <td>0.55</td>\n",
       "      <td>2.04</td>\n",
       "      <td>...</td>\n",
       "      <td>$50,530</td>\n",
       "      <td>0.78</td>\n",
       "      <td>13.41</td>\n",
       "      <td>0.63</td>\n",
       "      <td>$96,748</td>\n",
       "      <td>0.35</td>\n",
       "      <td>7%</td>\n",
       "      <td>0.67</td>\n",
       "      <td>1.02</td>\n",
       "      <td>Survive</td>\n",
       "    </tr>\n",
       "    <tr>\n",
       "      <th>436</th>\n",
       "      <td>Yale University</td>\n",
       "      <td>13,303</td>\n",
       "      <td>CT</td>\n",
       "      <td>3</td>\n",
       "      <td>0.99</td>\n",
       "      <td>6%</td>\n",
       "      <td>0.99</td>\n",
       "      <td>165,000</td>\n",
       "      <td>0.94</td>\n",
       "      <td>2.92</td>\n",
       "      <td>...</td>\n",
       "      <td>$53,430</td>\n",
       "      <td>0.86</td>\n",
       "      <td>25.75</td>\n",
       "      <td>1.11</td>\n",
       "      <td>$2,213,406</td>\n",
       "      <td>0.00</td>\n",
       "      <td>12%</td>\n",
       "      <td>0.83</td>\n",
       "      <td>0.83</td>\n",
       "      <td>Thrive</td>\n",
       "    </tr>\n",
       "    <tr>\n",
       "      <th>437</th>\n",
       "      <td>Yeshiva University</td>\n",
       "      <td>5,379</td>\n",
       "      <td>NY</td>\n",
       "      <td>97</td>\n",
       "      <td>0.57</td>\n",
       "      <td>60%</td>\n",
       "      <td>0.58</td>\n",
       "      <td>27,100</td>\n",
       "      <td>0.42</td>\n",
       "      <td>1.56</td>\n",
       "      <td>...</td>\n",
       "      <td>$43,500</td>\n",
       "      <td>0.63</td>\n",
       "      <td>6.66</td>\n",
       "      <td>0.39</td>\n",
       "      <td>$95,714</td>\n",
       "      <td>0.35</td>\n",
       "      <td>10%</td>\n",
       "      <td>0.78</td>\n",
       "      <td>1.13</td>\n",
       "      <td>Perish</td>\n",
       "    </tr>\n",
       "  </tbody>\n",
       "</table>\n",
       "<p>438 rows × 30 columns</p>\n",
       "</div>"
      ],
      "text/plain": [
       "                     InstitutionName FullTimeEnrollment State  Rank  \\\n",
       "0                 Adelphi University              6,562    NY   166   \n",
       "1                Agnes Scott College                998    GA    58   \n",
       "2                     Albion College              1,509    MI   140   \n",
       "3                  Allegheny College              1,724    PA    82   \n",
       "4                American University             11,435    DC    77   \n",
       "..                               ...                ...   ...   ...   \n",
       "433            Wittenberg University              1,693    OH   160   \n",
       "434                  Wofford College              1,653    SC    72   \n",
       "435  Worcester Polytechnic Institute              5,371    MA    64   \n",
       "436                  Yale University             13,303    CT     3   \n",
       "437               Yeshiva University              5,379    NY    97   \n",
       "\n",
       "     RankPctRank UndergraduateAdmitRate  UndergraduateAdmitRatePctRank  \\\n",
       "0           0.28                    74%                           0.29   \n",
       "1           0.74                    70%                           0.38   \n",
       "2           0.38                    68%                           0.43   \n",
       "3           0.64                    64%                           0.52   \n",
       "4           0.66                    32%                           0.84   \n",
       "..           ...                    ...                            ...   \n",
       "433         0.30                    74%                           0.30   \n",
       "434         0.68                    64%                           0.52   \n",
       "435         0.72                    42%                           0.76   \n",
       "436         0.99                     6%                           0.99   \n",
       "437         0.57                    60%                           0.58   \n",
       "\n",
       "    AverageMonthlySearchVolume  AverageMonthlySearchVolumePctRank  \\\n",
       "0                       60,500                               0.70   \n",
       "1                       14,800                               0.19   \n",
       "2                       18,100                               0.26   \n",
       "3                       22,200                               0.33   \n",
       "4                      110,000                               0.87   \n",
       "..                         ...                                ...   \n",
       "433                     18,100                               0.26   \n",
       "434                     27,100                               0.42   \n",
       "435                     40,500                               0.55   \n",
       "436                    165,000                               0.94   \n",
       "437                     27,100                               0.42   \n",
       "\n",
       "     CredentialScore  ... AverageUndergraduateTuitionandFees  \\\n",
       "0               1.27  ...                           $38,740    \n",
       "1               1.32  ...                           $41,160    \n",
       "2               1.06  ...                           $45,590    \n",
       "3               1.49  ...                           $47,540    \n",
       "4               2.37  ...                           $48,459    \n",
       "..               ...  ...                                ...   \n",
       "433             0.86  ...                           $39,500    \n",
       "434             1.61  ...                           $43,985    \n",
       "435             2.04  ...                           $50,530    \n",
       "436             2.92  ...                           $53,430    \n",
       "437             1.56  ...                           $43,500    \n",
       "\n",
       "     AverageUndergraduateTuitionFeesScore  Value ValuetoCostRatio  \\\n",
       "0                                    0.51   5.82             0.42   \n",
       "1                                    0.57   2.92             0.19   \n",
       "2                                    0.68   2.28             0.12   \n",
       "3                                    0.72   5.43             0.28   \n",
       "4                                    0.74   9.02             0.45   \n",
       "..                                    ...    ...              ...   \n",
       "433                                  0.52   0.82             0.06   \n",
       "434                                  0.64   6.01             0.35   \n",
       "435                                  0.78  13.41             0.63   \n",
       "436                                  0.86  25.75             1.11   \n",
       "437                                  0.63   6.66             0.39   \n",
       "\n",
       "     EndowmentperFullTimeStudent EndowmentperFullTimeStudentPctRank  \\\n",
       "0                       $28,738                                0.70   \n",
       "1                      $229,886                                0.16   \n",
       "2                      $115,513                                0.32   \n",
       "3                      $128,095                                0.29   \n",
       "4                       $59,154                                0.51   \n",
       "..                           ...                                ...   \n",
       "433                     $68,491                                0.45   \n",
       "434                    $124,616                                0.30   \n",
       "435                     $96,748                                0.35   \n",
       "436                  $2,213,406                                0.00   \n",
       "437                     $95,714                                0.35   \n",
       "\n",
       "     PercentageofInternationalStudents  \\\n",
       "0                                   3%   \n",
       "1                                   4%   \n",
       "2                                   1%   \n",
       "3                                   4%   \n",
       "4                                   3%   \n",
       "..                                 ...   \n",
       "433                                 1%   \n",
       "434                                 3%   \n",
       "435                                 7%   \n",
       "436                                12%   \n",
       "437                                10%   \n",
       "\n",
       "    PercentageofInternationalStudentsPCTRank  VulnerabilityScore  \\\n",
       "0                                       0.39                1.09   \n",
       "1                                       0.50                0.66   \n",
       "2                                       0.07                0.39   \n",
       "3                                       0.50                0.79   \n",
       "4                                       0.39                0.90   \n",
       "..                                       ...                 ...   \n",
       "433                                     0.07                0.52   \n",
       "434                                     0.39                0.69   \n",
       "435                                     0.67                1.02   \n",
       "436                                     0.83                0.83   \n",
       "437                                     0.78                1.13   \n",
       "\n",
       "     ProfGCategorization  \n",
       "0                 Perish  \n",
       "1               Struggle  \n",
       "2               Struggle  \n",
       "3               Struggle  \n",
       "4                 Thrive  \n",
       "..                   ...  \n",
       "433             Struggle  \n",
       "434             Struggle  \n",
       "435              Survive  \n",
       "436               Thrive  \n",
       "437               Perish  \n",
       "\n",
       "[438 rows x 30 columns]"
      ]
     },
     "execution_count": 4,
     "metadata": {},
     "output_type": "execute_result"
    }
   ],
   "source": [
    "df"
   ]
  },
  {
   "cell_type": "code",
   "execution_count": 5,
   "metadata": {},
   "outputs": [
    {
     "data": {
      "text/plain": [
       "Index(['InstitutionName', 'FullTimeEnrollment', 'State', 'Rank', 'RankPctRank',\n",
       "       'UndergraduateAdmitRate', 'UndergraduateAdmitRatePctRank',\n",
       "       'AverageMonthlySearchVolume', 'AverageMonthlySearchVolumePctRank',\n",
       "       'CredentialScore', 'StudentLifeGrade', 'StudentLifeScore',\n",
       "       'ExperienceScore', '15YearNPV', '15YearNPVPCTRank', '30YearNPV',\n",
       "       '30YearNPVPCTRank', 'InstructionalWagesperFullTimeStudent',\n",
       "       'InstructionalWagesperFullTimeStudentPCTRank', 'EduationScore',\n",
       "       'AverageUndergraduateTuitionandFees',\n",
       "       'AverageUndergraduateTuitionFeesScore', 'Value', 'ValuetoCostRatio',\n",
       "       'EndowmentperFullTimeStudent', 'EndowmentperFullTimeStudentPctRank',\n",
       "       'PercentageofInternationalStudents',\n",
       "       'PercentageofInternationalStudentsPCTRank', 'VulnerabilityScore',\n",
       "       'ProfGCategorization'],\n",
       "      dtype='object')"
      ]
     },
     "execution_count": 5,
     "metadata": {},
     "output_type": "execute_result"
    }
   ],
   "source": [
    "df.columns"
   ]
  },
  {
   "cell_type": "code",
   "execution_count": 6,
   "metadata": {},
   "outputs": [
    {
     "data": {
      "text/html": [
       "<div>\n",
       "<style scoped>\n",
       "    .dataframe tbody tr th:only-of-type {\n",
       "        vertical-align: middle;\n",
       "    }\n",
       "\n",
       "    .dataframe tbody tr th {\n",
       "        vertical-align: top;\n",
       "    }\n",
       "\n",
       "    .dataframe thead th {\n",
       "        text-align: right;\n",
       "    }\n",
       "</style>\n",
       "<table border=\"1\" class=\"dataframe\">\n",
       "  <thead>\n",
       "    <tr style=\"text-align: right;\">\n",
       "      <th></th>\n",
       "      <th>Rank</th>\n",
       "      <th>RankPctRank</th>\n",
       "      <th>UndergraduateAdmitRatePctRank</th>\n",
       "      <th>AverageMonthlySearchVolumePctRank</th>\n",
       "      <th>CredentialScore</th>\n",
       "      <th>StudentLifeScore</th>\n",
       "      <th>ExperienceScore</th>\n",
       "      <th>15YearNPVPCTRank</th>\n",
       "      <th>30YearNPVPCTRank</th>\n",
       "      <th>InstructionalWagesperFullTimeStudentPCTRank</th>\n",
       "      <th>EduationScore</th>\n",
       "      <th>AverageUndergraduateTuitionFeesScore</th>\n",
       "      <th>Value</th>\n",
       "      <th>ValuetoCostRatio</th>\n",
       "      <th>EndowmentperFullTimeStudentPctRank</th>\n",
       "      <th>PercentageofInternationalStudentsPCTRank</th>\n",
       "      <th>VulnerabilityScore</th>\n",
       "    </tr>\n",
       "  </thead>\n",
       "  <tbody>\n",
       "    <tr>\n",
       "      <th>count</th>\n",
       "      <td>438.000000</td>\n",
       "      <td>438.000000</td>\n",
       "      <td>438.000000</td>\n",
       "      <td>438.000000</td>\n",
       "      <td>438.000000</td>\n",
       "      <td>438.000000</td>\n",
       "      <td>438.000000</td>\n",
       "      <td>438.000000</td>\n",
       "      <td>438.000000</td>\n",
       "      <td>438.000000</td>\n",
       "      <td>438.000000</td>\n",
       "      <td>438.000000</td>\n",
       "      <td>438.000000</td>\n",
       "      <td>438.000000</td>\n",
       "      <td>438.000000</td>\n",
       "      <td>438.000000</td>\n",
       "      <td>438.000000</td>\n",
       "    </tr>\n",
       "    <tr>\n",
       "      <th>mean</th>\n",
       "      <td>121.098174</td>\n",
       "      <td>0.506370</td>\n",
       "      <td>0.500502</td>\n",
       "      <td>0.474566</td>\n",
       "      <td>1.481142</td>\n",
       "      <td>4.163562</td>\n",
       "      <td>2.500000</td>\n",
       "      <td>0.498425</td>\n",
       "      <td>0.499909</td>\n",
       "      <td>0.500388</td>\n",
       "      <td>1.497443</td>\n",
       "      <td>0.500525</td>\n",
       "      <td>6.831507</td>\n",
       "      <td>0.976164</td>\n",
       "      <td>0.500502</td>\n",
       "      <td>0.458288</td>\n",
       "      <td>0.957352</td>\n",
       "    </tr>\n",
       "    <tr>\n",
       "      <th>std</th>\n",
       "      <td>78.385230</td>\n",
       "      <td>0.287707</td>\n",
       "      <td>0.289659</td>\n",
       "      <td>0.288970</td>\n",
       "      <td>0.683471</td>\n",
       "      <td>0.684006</td>\n",
       "      <td>0.410112</td>\n",
       "      <td>0.289843</td>\n",
       "      <td>0.289923</td>\n",
       "      <td>0.289636</td>\n",
       "      <td>0.751404</td>\n",
       "      <td>0.289620</td>\n",
       "      <td>6.491353</td>\n",
       "      <td>2.764701</td>\n",
       "      <td>0.289659</td>\n",
       "      <td>0.313460</td>\n",
       "      <td>0.314578</td>\n",
       "    </tr>\n",
       "    <tr>\n",
       "      <th>min</th>\n",
       "      <td>1.000000</td>\n",
       "      <td>0.030000</td>\n",
       "      <td>0.000000</td>\n",
       "      <td>0.000000</td>\n",
       "      <td>0.180000</td>\n",
       "      <td>2.000000</td>\n",
       "      <td>1.200000</td>\n",
       "      <td>0.000000</td>\n",
       "      <td>0.000000</td>\n",
       "      <td>0.000000</td>\n",
       "      <td>0.030000</td>\n",
       "      <td>0.000000</td>\n",
       "      <td>0.030000</td>\n",
       "      <td>0.000000</td>\n",
       "      <td>0.000000</td>\n",
       "      <td>0.000000</td>\n",
       "      <td>0.140000</td>\n",
       "    </tr>\n",
       "    <tr>\n",
       "      <th>25%</th>\n",
       "      <td>57.000000</td>\n",
       "      <td>0.250000</td>\n",
       "      <td>0.250000</td>\n",
       "      <td>0.190000</td>\n",
       "      <td>0.972500</td>\n",
       "      <td>3.660000</td>\n",
       "      <td>2.200000</td>\n",
       "      <td>0.250000</td>\n",
       "      <td>0.250000</td>\n",
       "      <td>0.250000</td>\n",
       "      <td>0.890000</td>\n",
       "      <td>0.250000</td>\n",
       "      <td>1.897500</td>\n",
       "      <td>0.172500</td>\n",
       "      <td>0.250000</td>\n",
       "      <td>0.070000</td>\n",
       "      <td>0.760000</td>\n",
       "    </tr>\n",
       "    <tr>\n",
       "      <th>50%</th>\n",
       "      <td>114.000000</td>\n",
       "      <td>0.500000</td>\n",
       "      <td>0.500000</td>\n",
       "      <td>0.470000</td>\n",
       "      <td>1.330000</td>\n",
       "      <td>4.330000</td>\n",
       "      <td>2.600000</td>\n",
       "      <td>0.495000</td>\n",
       "      <td>0.500000</td>\n",
       "      <td>0.500000</td>\n",
       "      <td>1.400000</td>\n",
       "      <td>0.500000</td>\n",
       "      <td>4.320000</td>\n",
       "      <td>0.430000</td>\n",
       "      <td>0.500000</td>\n",
       "      <td>0.500000</td>\n",
       "      <td>0.950000</td>\n",
       "    </tr>\n",
       "    <tr>\n",
       "      <th>75%</th>\n",
       "      <td>179.000000</td>\n",
       "      <td>0.750000</td>\n",
       "      <td>0.750000</td>\n",
       "      <td>0.700000</td>\n",
       "      <td>2.057500</td>\n",
       "      <td>4.660000</td>\n",
       "      <td>2.800000</td>\n",
       "      <td>0.750000</td>\n",
       "      <td>0.750000</td>\n",
       "      <td>0.750000</td>\n",
       "      <td>2.140000</td>\n",
       "      <td>0.750000</td>\n",
       "      <td>9.755000</td>\n",
       "      <td>0.895000</td>\n",
       "      <td>0.750000</td>\n",
       "      <td>0.740000</td>\n",
       "      <td>1.147500</td>\n",
       "    </tr>\n",
       "    <tr>\n",
       "      <th>max</th>\n",
       "      <td>281.000000</td>\n",
       "      <td>1.000000</td>\n",
       "      <td>1.000000</td>\n",
       "      <td>1.000000</td>\n",
       "      <td>2.970000</td>\n",
       "      <td>5.000000</td>\n",
       "      <td>3.000000</td>\n",
       "      <td>1.000000</td>\n",
       "      <td>1.000000</td>\n",
       "      <td>1.000000</td>\n",
       "      <td>2.990000</td>\n",
       "      <td>1.000000</td>\n",
       "      <td>26.470000</td>\n",
       "      <td>42.270000</td>\n",
       "      <td>1.000000</td>\n",
       "      <td>1.000000</td>\n",
       "      <td>1.900000</td>\n",
       "    </tr>\n",
       "  </tbody>\n",
       "</table>\n",
       "</div>"
      ],
      "text/plain": [
       "             Rank  RankPctRank  UndergraduateAdmitRatePctRank  \\\n",
       "count  438.000000   438.000000                     438.000000   \n",
       "mean   121.098174     0.506370                       0.500502   \n",
       "std     78.385230     0.287707                       0.289659   \n",
       "min      1.000000     0.030000                       0.000000   \n",
       "25%     57.000000     0.250000                       0.250000   \n",
       "50%    114.000000     0.500000                       0.500000   \n",
       "75%    179.000000     0.750000                       0.750000   \n",
       "max    281.000000     1.000000                       1.000000   \n",
       "\n",
       "       AverageMonthlySearchVolumePctRank  CredentialScore  StudentLifeScore  \\\n",
       "count                         438.000000       438.000000        438.000000   \n",
       "mean                            0.474566         1.481142          4.163562   \n",
       "std                             0.288970         0.683471          0.684006   \n",
       "min                             0.000000         0.180000          2.000000   \n",
       "25%                             0.190000         0.972500          3.660000   \n",
       "50%                             0.470000         1.330000          4.330000   \n",
       "75%                             0.700000         2.057500          4.660000   \n",
       "max                             1.000000         2.970000          5.000000   \n",
       "\n",
       "       ExperienceScore  15YearNPVPCTRank  30YearNPVPCTRank  \\\n",
       "count       438.000000        438.000000        438.000000   \n",
       "mean          2.500000          0.498425          0.499909   \n",
       "std           0.410112          0.289843          0.289923   \n",
       "min           1.200000          0.000000          0.000000   \n",
       "25%           2.200000          0.250000          0.250000   \n",
       "50%           2.600000          0.495000          0.500000   \n",
       "75%           2.800000          0.750000          0.750000   \n",
       "max           3.000000          1.000000          1.000000   \n",
       "\n",
       "       InstructionalWagesperFullTimeStudentPCTRank  EduationScore  \\\n",
       "count                                   438.000000     438.000000   \n",
       "mean                                      0.500388       1.497443   \n",
       "std                                       0.289636       0.751404   \n",
       "min                                       0.000000       0.030000   \n",
       "25%                                       0.250000       0.890000   \n",
       "50%                                       0.500000       1.400000   \n",
       "75%                                       0.750000       2.140000   \n",
       "max                                       1.000000       2.990000   \n",
       "\n",
       "       AverageUndergraduateTuitionFeesScore       Value  ValuetoCostRatio  \\\n",
       "count                            438.000000  438.000000        438.000000   \n",
       "mean                               0.500525    6.831507          0.976164   \n",
       "std                                0.289620    6.491353          2.764701   \n",
       "min                                0.000000    0.030000          0.000000   \n",
       "25%                                0.250000    1.897500          0.172500   \n",
       "50%                                0.500000    4.320000          0.430000   \n",
       "75%                                0.750000    9.755000          0.895000   \n",
       "max                                1.000000   26.470000         42.270000   \n",
       "\n",
       "       EndowmentperFullTimeStudentPctRank  \\\n",
       "count                          438.000000   \n",
       "mean                             0.500502   \n",
       "std                              0.289659   \n",
       "min                              0.000000   \n",
       "25%                              0.250000   \n",
       "50%                              0.500000   \n",
       "75%                              0.750000   \n",
       "max                              1.000000   \n",
       "\n",
       "       PercentageofInternationalStudentsPCTRank  VulnerabilityScore  \n",
       "count                                438.000000          438.000000  \n",
       "mean                                   0.458288            0.957352  \n",
       "std                                    0.313460            0.314578  \n",
       "min                                    0.000000            0.140000  \n",
       "25%                                    0.070000            0.760000  \n",
       "50%                                    0.500000            0.950000  \n",
       "75%                                    0.740000            1.147500  \n",
       "max                                    1.000000            1.900000  "
      ]
     },
     "execution_count": 6,
     "metadata": {},
     "output_type": "execute_result"
    }
   ],
   "source": [
    "df.describe()"
   ]
  },
  {
   "cell_type": "code",
   "execution_count": 7,
   "metadata": {},
   "outputs": [
    {
     "name": "stdout",
     "output_type": "stream",
     "text": [
      "<class 'pandas.core.frame.DataFrame'>\n",
      "RangeIndex: 438 entries, 0 to 437\n",
      "Data columns (total 30 columns):\n",
      " #   Column                                       Non-Null Count  Dtype  \n",
      "---  ------                                       --------------  -----  \n",
      " 0   InstitutionName                              438 non-null    object \n",
      " 1   FullTimeEnrollment                           438 non-null    object \n",
      " 2   State                                        438 non-null    object \n",
      " 3   Rank                                         438 non-null    int64  \n",
      " 4   RankPctRank                                  438 non-null    float64\n",
      " 5   UndergraduateAdmitRate                       438 non-null    object \n",
      " 6   UndergraduateAdmitRatePctRank                438 non-null    float64\n",
      " 7   AverageMonthlySearchVolume                   438 non-null    object \n",
      " 8   AverageMonthlySearchVolumePctRank            438 non-null    float64\n",
      " 9   CredentialScore                              438 non-null    float64\n",
      " 10  StudentLifeGrade                             438 non-null    object \n",
      " 11  StudentLifeScore                             438 non-null    float64\n",
      " 12  ExperienceScore                              438 non-null    float64\n",
      " 13  15YearNPV                                    438 non-null    object \n",
      " 14  15YearNPVPCTRank                             438 non-null    float64\n",
      " 15  30YearNPV                                    438 non-null    object \n",
      " 16  30YearNPVPCTRank                             438 non-null    float64\n",
      " 17  InstructionalWagesperFullTimeStudent         438 non-null    object \n",
      " 18  InstructionalWagesperFullTimeStudentPCTRank  438 non-null    float64\n",
      " 19  EduationScore                                438 non-null    float64\n",
      " 20  AverageUndergraduateTuitionandFees           438 non-null    object \n",
      " 21  AverageUndergraduateTuitionFeesScore         438 non-null    float64\n",
      " 22  Value                                        438 non-null    float64\n",
      " 23  ValuetoCostRatio                             438 non-null    float64\n",
      " 24  EndowmentperFullTimeStudent                  438 non-null    object \n",
      " 25  EndowmentperFullTimeStudentPctRank           438 non-null    float64\n",
      " 26  PercentageofInternationalStudents            438 non-null    object \n",
      " 27  PercentageofInternationalStudentsPCTRank     438 non-null    float64\n",
      " 28  VulnerabilityScore                           438 non-null    float64\n",
      " 29  ProfGCategorization                          438 non-null    object \n",
      "dtypes: float64(16), int64(1), object(13)\n",
      "memory usage: 102.8+ KB\n"
     ]
    }
   ],
   "source": [
    "df.info()"
   ]
  },
  {
   "cell_type": "code",
   "execution_count": 8,
   "metadata": {},
   "outputs": [],
   "source": [
    "# identify data types in columns labeled object despite containing numeric values\n",
    "# > all columns labeled object contain all strings\n",
    "# worked out individually by column below"
   ]
  },
  {
   "cell_type": "code",
   "execution_count": 9,
   "metadata": {},
   "outputs": [
    {
     "data": {
      "text/plain": [
       "<class 'str'>    438\n",
       "Name: EndowmentperFullTimeStudent, dtype: int64"
      ]
     },
     "execution_count": 9,
     "metadata": {},
     "output_type": "execute_result"
    }
   ],
   "source": [
    "df['EndowmentperFullTimeStudent'].apply(type).value_counts()"
   ]
  },
  {
   "cell_type": "code",
   "execution_count": 10,
   "metadata": {},
   "outputs": [
    {
     "data": {
      "text/plain": [
       "<class 'str'>    438\n",
       "Name: FullTimeEnrollment, dtype: int64"
      ]
     },
     "execution_count": 10,
     "metadata": {},
     "output_type": "execute_result"
    }
   ],
   "source": [
    "df['FullTimeEnrollment'].apply(type).value_counts()"
   ]
  },
  {
   "cell_type": "code",
   "execution_count": 11,
   "metadata": {},
   "outputs": [
    {
     "data": {
      "text/plain": [
       "<class 'str'>    438\n",
       "Name: UndergraduateAdmitRate, dtype: int64"
      ]
     },
     "execution_count": 11,
     "metadata": {},
     "output_type": "execute_result"
    }
   ],
   "source": [
    "df['UndergraduateAdmitRate'].apply(type).value_counts()"
   ]
  },
  {
   "cell_type": "code",
   "execution_count": 12,
   "metadata": {},
   "outputs": [
    {
     "data": {
      "text/plain": [
       "<class 'str'>    438\n",
       "Name: AverageMonthlySearchVolume, dtype: int64"
      ]
     },
     "execution_count": 12,
     "metadata": {},
     "output_type": "execute_result"
    }
   ],
   "source": [
    "df['AverageMonthlySearchVolume'].apply(type).value_counts()"
   ]
  },
  {
   "cell_type": "code",
   "execution_count": 13,
   "metadata": {},
   "outputs": [
    {
     "data": {
      "text/plain": [
       "<class 'str'>    438\n",
       "Name: 15YearNPV, dtype: int64"
      ]
     },
     "execution_count": 13,
     "metadata": {},
     "output_type": "execute_result"
    }
   ],
   "source": [
    "df['15YearNPV'].apply(type).value_counts()"
   ]
  },
  {
   "cell_type": "code",
   "execution_count": 14,
   "metadata": {},
   "outputs": [
    {
     "data": {
      "text/plain": [
       "<class 'str'>    438\n",
       "Name: 30YearNPV, dtype: int64"
      ]
     },
     "execution_count": 14,
     "metadata": {},
     "output_type": "execute_result"
    }
   ],
   "source": [
    "df['30YearNPV'].apply(type).value_counts()"
   ]
  },
  {
   "cell_type": "code",
   "execution_count": 15,
   "metadata": {},
   "outputs": [
    {
     "data": {
      "text/plain": [
       "<class 'str'>    438\n",
       "Name: InstructionalWagesperFullTimeStudent, dtype: int64"
      ]
     },
     "execution_count": 15,
     "metadata": {},
     "output_type": "execute_result"
    }
   ],
   "source": [
    "df['InstructionalWagesperFullTimeStudent'].apply(type).value_counts()"
   ]
  },
  {
   "cell_type": "code",
   "execution_count": 16,
   "metadata": {},
   "outputs": [
    {
     "data": {
      "text/plain": [
       "<class 'str'>    438\n",
       "Name: AverageUndergraduateTuitionandFees, dtype: int64"
      ]
     },
     "execution_count": 16,
     "metadata": {},
     "output_type": "execute_result"
    }
   ],
   "source": [
    "df['AverageUndergraduateTuitionandFees'].apply(type).value_counts()"
   ]
  },
  {
   "cell_type": "code",
   "execution_count": 17,
   "metadata": {},
   "outputs": [
    {
     "data": {
      "text/plain": [
       "<class 'str'>    438\n",
       "Name: PercentageofInternationalStudents, dtype: int64"
      ]
     },
     "execution_count": 17,
     "metadata": {},
     "output_type": "execute_result"
    }
   ],
   "source": [
    "df['PercentageofInternationalStudents'].apply(type).value_counts()"
   ]
  },
  {
   "cell_type": "code",
   "execution_count": 18,
   "metadata": {},
   "outputs": [],
   "source": [
    "# to convert object data type to float, remove '$' and ',' from values\n",
    "# check to see if properly converted\n",
    "# worked out individually by column below\n"
   ]
  },
  {
   "cell_type": "code",
   "execution_count": 19,
   "metadata": {},
   "outputs": [],
   "source": [
    "df['FullTimeEnrollment'] = df['FullTimeEnrollment'].replace({'\\$': '', ',': ''}, regex=True).astype(float)"
   ]
  },
  {
   "cell_type": "code",
   "execution_count": 20,
   "metadata": {},
   "outputs": [
    {
     "data": {
      "text/plain": [
       "<class 'float'>    438\n",
       "Name: FullTimeEnrollment, dtype: int64"
      ]
     },
     "execution_count": 20,
     "metadata": {},
     "output_type": "execute_result"
    }
   ],
   "source": [
    "df['FullTimeEnrollment'].apply(type).value_counts()"
   ]
  },
  {
   "cell_type": "code",
   "execution_count": 21,
   "metadata": {},
   "outputs": [],
   "source": [
    "df['UndergraduateAdmitRate'] = df['UndergraduateAdmitRate'].replace({'\\%': '', ',': ''}, regex=True).astype(float)"
   ]
  },
  {
   "cell_type": "code",
   "execution_count": 22,
   "metadata": {},
   "outputs": [
    {
     "data": {
      "text/plain": [
       "<class 'float'>    438\n",
       "Name: UndergraduateAdmitRate, dtype: int64"
      ]
     },
     "execution_count": 22,
     "metadata": {},
     "output_type": "execute_result"
    }
   ],
   "source": [
    "df['UndergraduateAdmitRate'].apply(type).value_counts()"
   ]
  },
  {
   "cell_type": "code",
   "execution_count": 23,
   "metadata": {},
   "outputs": [],
   "source": [
    "df['AverageMonthlySearchVolume'] = df['AverageMonthlySearchVolume'].replace({'\\,': '', ',': ''}, regex=True).astype(float)"
   ]
  },
  {
   "cell_type": "code",
   "execution_count": 24,
   "metadata": {},
   "outputs": [
    {
     "data": {
      "text/plain": [
       "<class 'float'>    438\n",
       "Name: AverageMonthlySearchVolume, dtype: int64"
      ]
     },
     "execution_count": 24,
     "metadata": {},
     "output_type": "execute_result"
    }
   ],
   "source": [
    "df['AverageMonthlySearchVolume'].apply(type).value_counts()"
   ]
  },
  {
   "cell_type": "code",
   "execution_count": 25,
   "metadata": {},
   "outputs": [],
   "source": [
    "df['15YearNPV'] = df['15YearNPV'].replace({'\\$': '', ',': ''}, regex=True).astype(float)"
   ]
  },
  {
   "cell_type": "code",
   "execution_count": 26,
   "metadata": {},
   "outputs": [
    {
     "data": {
      "text/plain": [
       "<class 'float'>    438\n",
       "Name: 15YearNPV, dtype: int64"
      ]
     },
     "execution_count": 26,
     "metadata": {},
     "output_type": "execute_result"
    }
   ],
   "source": [
    "df['15YearNPV'].apply(type).value_counts()"
   ]
  },
  {
   "cell_type": "code",
   "execution_count": 27,
   "metadata": {},
   "outputs": [],
   "source": [
    "df['30YearNPV'] = df['30YearNPV'].replace({'\\$': '', ',': ''}, regex=True).astype(float)"
   ]
  },
  {
   "cell_type": "code",
   "execution_count": 28,
   "metadata": {},
   "outputs": [
    {
     "data": {
      "text/plain": [
       "<class 'float'>    438\n",
       "Name: 30YearNPV, dtype: int64"
      ]
     },
     "execution_count": 28,
     "metadata": {},
     "output_type": "execute_result"
    }
   ],
   "source": [
    "df['30YearNPV'].apply(type).value_counts()"
   ]
  },
  {
   "cell_type": "code",
   "execution_count": 29,
   "metadata": {},
   "outputs": [],
   "source": [
    "df['InstructionalWagesperFullTimeStudent'] = df['InstructionalWagesperFullTimeStudent'].replace({'\\$': '', ',': ''}, regex=True).astype(float)"
   ]
  },
  {
   "cell_type": "code",
   "execution_count": 30,
   "metadata": {},
   "outputs": [
    {
     "data": {
      "text/plain": [
       "<class 'float'>    438\n",
       "Name: InstructionalWagesperFullTimeStudent, dtype: int64"
      ]
     },
     "execution_count": 30,
     "metadata": {},
     "output_type": "execute_result"
    }
   ],
   "source": [
    "df['InstructionalWagesperFullTimeStudent'].apply(type).value_counts()"
   ]
  },
  {
   "cell_type": "code",
   "execution_count": 31,
   "metadata": {},
   "outputs": [],
   "source": [
    "df['AverageUndergraduateTuitionandFees'] = df['AverageUndergraduateTuitionandFees'].replace({'\\$': '', ',': ''}, regex=True).astype(float)"
   ]
  },
  {
   "cell_type": "code",
   "execution_count": 32,
   "metadata": {},
   "outputs": [
    {
     "data": {
      "text/plain": [
       "<class 'float'>    438\n",
       "Name: AverageUndergraduateTuitionandFees, dtype: int64"
      ]
     },
     "execution_count": 32,
     "metadata": {},
     "output_type": "execute_result"
    }
   ],
   "source": [
    "df['AverageUndergraduateTuitionandFees'].apply(type).value_counts()"
   ]
  },
  {
   "cell_type": "code",
   "execution_count": 33,
   "metadata": {},
   "outputs": [],
   "source": [
    "df['EndowmentperFullTimeStudent'] = df['EndowmentperFullTimeStudent'].replace({'\\$': '', ',': ''}, regex=True).astype(float)"
   ]
  },
  {
   "cell_type": "code",
   "execution_count": 34,
   "metadata": {},
   "outputs": [
    {
     "data": {
      "text/plain": [
       "<class 'float'>    438\n",
       "Name: EndowmentperFullTimeStudent, dtype: int64"
      ]
     },
     "execution_count": 34,
     "metadata": {},
     "output_type": "execute_result"
    }
   ],
   "source": [
    "df['EndowmentperFullTimeStudent'].apply(type).value_counts()"
   ]
  },
  {
   "cell_type": "code",
   "execution_count": 35,
   "metadata": {},
   "outputs": [],
   "source": [
    "df['PercentageofInternationalStudents'] = df['PercentageofInternationalStudents'].replace({'\\%': '', ',': ''}, regex=True).astype(float)"
   ]
  },
  {
   "cell_type": "code",
   "execution_count": 36,
   "metadata": {},
   "outputs": [
    {
     "data": {
      "text/plain": [
       "<class 'float'>    438\n",
       "Name: PercentageofInternationalStudents, dtype: int64"
      ]
     },
     "execution_count": 36,
     "metadata": {},
     "output_type": "execute_result"
    }
   ],
   "source": [
    "df['PercentageofInternationalStudents'].apply(type).value_counts()"
   ]
  },
  {
   "cell_type": "code",
   "execution_count": 37,
   "metadata": {},
   "outputs": [
    {
     "name": "stdout",
     "output_type": "stream",
     "text": [
      "<class 'pandas.core.frame.DataFrame'>\n",
      "RangeIndex: 438 entries, 0 to 437\n",
      "Data columns (total 30 columns):\n",
      " #   Column                                       Non-Null Count  Dtype  \n",
      "---  ------                                       --------------  -----  \n",
      " 0   InstitutionName                              438 non-null    object \n",
      " 1   FullTimeEnrollment                           438 non-null    float64\n",
      " 2   State                                        438 non-null    object \n",
      " 3   Rank                                         438 non-null    int64  \n",
      " 4   RankPctRank                                  438 non-null    float64\n",
      " 5   UndergraduateAdmitRate                       438 non-null    float64\n",
      " 6   UndergraduateAdmitRatePctRank                438 non-null    float64\n",
      " 7   AverageMonthlySearchVolume                   438 non-null    float64\n",
      " 8   AverageMonthlySearchVolumePctRank            438 non-null    float64\n",
      " 9   CredentialScore                              438 non-null    float64\n",
      " 10  StudentLifeGrade                             438 non-null    object \n",
      " 11  StudentLifeScore                             438 non-null    float64\n",
      " 12  ExperienceScore                              438 non-null    float64\n",
      " 13  15YearNPV                                    438 non-null    float64\n",
      " 14  15YearNPVPCTRank                             438 non-null    float64\n",
      " 15  30YearNPV                                    438 non-null    float64\n",
      " 16  30YearNPVPCTRank                             438 non-null    float64\n",
      " 17  InstructionalWagesperFullTimeStudent         438 non-null    float64\n",
      " 18  InstructionalWagesperFullTimeStudentPCTRank  438 non-null    float64\n",
      " 19  EduationScore                                438 non-null    float64\n",
      " 20  AverageUndergraduateTuitionandFees           438 non-null    float64\n",
      " 21  AverageUndergraduateTuitionFeesScore         438 non-null    float64\n",
      " 22  Value                                        438 non-null    float64\n",
      " 23  ValuetoCostRatio                             438 non-null    float64\n",
      " 24  EndowmentperFullTimeStudent                  438 non-null    float64\n",
      " 25  EndowmentperFullTimeStudentPctRank           438 non-null    float64\n",
      " 26  PercentageofInternationalStudents            438 non-null    float64\n",
      " 27  PercentageofInternationalStudentsPCTRank     438 non-null    float64\n",
      " 28  VulnerabilityScore                           438 non-null    float64\n",
      " 29  ProfGCategorization                          438 non-null    object \n",
      "dtypes: float64(25), int64(1), object(4)\n",
      "memory usage: 102.8+ KB\n"
     ]
    }
   ],
   "source": [
    "df.info()"
   ]
  },
  {
   "cell_type": "code",
   "execution_count": 38,
   "metadata": {},
   "outputs": [],
   "source": [
    "#Charts"
   ]
  },
  {
   "cell_type": "code",
   "execution_count": 52,
   "metadata": {},
   "outputs": [
    {
     "data": {
      "text/plain": [
       "<matplotlib.axes._subplots.AxesSubplot at 0x1a2a6aee10>"
      ]
     },
     "execution_count": 52,
     "metadata": {},
     "output_type": "execute_result"
    },
    {
     "data": {
      "image/png": "[encoded data removed]",
      "text/plain": [
       "<Figure size 432x288 with 1 Axes>"
      ]
     },
     "metadata": {
      "needs_background": "light"
     },
     "output_type": "display_data"
    }
   ],
   "source": [
    "sns.barplot(x = df['EndowmentperFullTimeStudent'], y = df['AverageUndergraduateTuitionFeesScore'], ci = False)"
   ]
  },
  {
   "cell_type": "code",
   "execution_count": 40,
   "metadata": {},
   "outputs": [
    {
     "data": {
      "text/plain": [
       "<matplotlib.axes._subplots.AxesSubplot at 0x1a263868d0>"
      ]
     },
     "execution_count": 40,
     "metadata": {},
     "output_type": "execute_result"
    },
    {
     "data": {
      "image/png": "[encoded data removed]",
      "text/plain": [
       "<Figure size 432x288 with 1 Axes>"
      ]
     },
     "metadata": {
      "needs_background": "light"
     },
     "output_type": "display_data"
    }
   ],
   "source": [
    "sns.barplot(x = df['StudentLifeGrade'], y = df['ValuetoCostRatio'], ci = False)"
   ]
  },
  {
   "cell_type": "code",
   "execution_count": 41,
   "metadata": {},
   "outputs": [
    {
     "data": {
      "text/plain": [
       "<matplotlib.axes._subplots.AxesSubplot at 0x1a26c18c10>"
      ]
     },
     "execution_count": 41,
     "metadata": {},
     "output_type": "execute_result"
    },
    {
     "data": {
      "image/png": "[encoded data removed]",
      "text/plain": [
       "<Figure size 432x288 with 1 Axes>"
      ]
     },
     "metadata": {
      "needs_background": "light"
     },
     "output_type": "display_data"
    }
   ],
   "source": [
    "sns.barplot(x = df['StudentLifeGrade'], y = df['FullTimeEnrollment'], ci = False)"
   ]
  },
  {
   "cell_type": "code",
   "execution_count": 44,
   "metadata": {},
   "outputs": [
    {
     "data": {
      "text/plain": [
       "<matplotlib.axes._subplots.AxesSubplot at 0x1a27bf5c90>"
      ]
     },
     "execution_count": 44,
     "metadata": {},
     "output_type": "execute_result"
    },
    {
     "data": {
      "image/png": "[encoded data removed]",
      "text/plain": [
       "<Figure size 432x288 with 1 Axes>"
      ]
     },
     "metadata": {
      "needs_background": "light"
     },
     "output_type": "display_data"
    }
   ],
   "source": [
    "sns.barplot(x = df['StudentLifeGrade'], y = df['EndowmentperFullTimeStudent'], ci = False)"
   ]
  },
  {
   "cell_type": "code",
   "execution_count": 45,
   "metadata": {},
   "outputs": [
    {
     "data": {
      "text/plain": [
       "<matplotlib.axes._subplots.AxesSubplot at 0x1a27d88690>"
      ]
     },
     "execution_count": 45,
     "metadata": {},
     "output_type": "execute_result"
    },
    {
     "data": {
      "image/png": "[encoded data removed]",
      "text/plain": [
       "<Figure size 432x288 with 1 Axes>"
      ]
     },
     "metadata": {
      "needs_background": "light"
     },
     "output_type": "display_data"
    }
   ],
   "source": [
    "sns.barplot(x = df['AverageUndergraduateTuitionandFees'], y = df['ProfGCategorization'], ci = False)"
   ]
  },
  {
   "cell_type": "code",
   "execution_count": 46,
   "metadata": {},
   "outputs": [
    {
     "data": {
      "text/plain": [
       "<matplotlib.axes._subplots.AxesSubplot at 0x1a26d6e810>"
      ]
     },
     "execution_count": 46,
     "metadata": {},
     "output_type": "execute_result"
    },
    {
     "data": {
      "image/png": "[encoded data removed]",
      "text/plain": [
       "<Figure size 432x288 with 1 Axes>"
      ]
     },
     "metadata": {
      "needs_background": "light"
     },
     "output_type": "display_data"
    }
   ],
   "source": [
    "sns.barplot(x = df['StudentLifeGrade'], y = df['EndowmentperFullTimeStudent'],hue = df['ProfGCategorization'], ci = False)"
   ]
  },
  {
   "cell_type": "code",
   "execution_count": 50,
   "metadata": {},
   "outputs": [
    {
     "data": {
      "text/plain": [
       "<matplotlib.axes._subplots.AxesSubplot at 0x1a28bf9f90>"
      ]
     },
     "execution_count": 50,
     "metadata": {},
     "output_type": "execute_result"
    },
    {
     "data": {
      "image/png": "[encoded data removed]",
      "text/plain": [
       "<Figure size 1152x1008 with 1 Axes>"
      ]
     },
     "metadata": {
      "needs_background": "light"
     },
     "output_type": "display_data"
    }
   ],
   "source": [
    "fig_dims = (16, 14)\n",
    "fig, ax = plt.subplots(figsize=fig_dims)\n",
    "sns.barplot(x = df['State'], y = df['EndowmentperFullTimeStudent'],ax=ax, ci = False)"
   ]
  },
  {
   "cell_type": "code",
   "execution_count": 68,
   "metadata": {},
   "outputs": [
    {
     "data": {
      "text/plain": [
       "<matplotlib.axes._subplots.AxesSubplot at 0x1a2b7dcd90>"
      ]
     },
     "execution_count": 68,
     "metadata": {},
     "output_type": "execute_result"
    },
    {
     "data": {
      "image/png": "[encoded data removed]",
      "text/plain": [
       "<Figure size 432x288 with 1 Axes>"
      ]
     },
     "metadata": {
      "needs_background": "light"
     },
     "output_type": "display_data"
    }
   ],
   "source": [
    "sns.barplot(x = df['EduationScore'], y = df['EndowmentperFullTimeStudent'], ci = False)"
   ]
  },
  {
   "cell_type": "code",
   "execution_count": 66,
   "metadata": {},
   "outputs": [
    {
     "ename": "KeyError",
     "evalue": "'df.sea'",
     "output_type": "error",
     "traceback": [
      "\u001b[0;31m---------------------------------------------------------------------------\u001b[0m",
      "\u001b[0;31mKeyError\u001b[0m                                  Traceback (most recent call last)",
      "\u001b[0;32m/opt/anaconda3/lib/python3.7/site-packages/pandas/core/indexes/base.py\u001b[0m in \u001b[0;36mget_loc\u001b[0;34m(self, key, method, tolerance)\u001b[0m\n\u001b[1;32m   2645\u001b[0m             \u001b[0;32mtry\u001b[0m\u001b[0;34m:\u001b[0m\u001b[0;34m\u001b[0m\u001b[0;34m\u001b[0m\u001b[0m\n\u001b[0;32m-> 2646\u001b[0;31m                 \u001b[0;32mreturn\u001b[0m \u001b[0mself\u001b[0m\u001b[0;34m.\u001b[0m\u001b[0m_engine\u001b[0m\u001b[0;34m.\u001b[0m\u001b[0mget_loc\u001b[0m\u001b[0;34m(\u001b[0m\u001b[0mkey\u001b[0m\u001b[0;34m)\u001b[0m\u001b[0;34m\u001b[0m\u001b[0;34m\u001b[0m\u001b[0m\n\u001b[0m\u001b[1;32m   2647\u001b[0m             \u001b[0;32mexcept\u001b[0m \u001b[0mKeyError\u001b[0m\u001b[0;34m:\u001b[0m\u001b[0;34m\u001b[0m\u001b[0;34m\u001b[0m\u001b[0m\n",
      "\u001b[0;32mpandas/_libs/index.pyx\u001b[0m in \u001b[0;36mpandas._libs.index.IndexEngine.get_loc\u001b[0;34m()\u001b[0m\n",
      "\u001b[0;32mpandas/_libs/index.pyx\u001b[0m in \u001b[0;36mpandas._libs.index.IndexEngine.get_loc\u001b[0;34m()\u001b[0m\n",
      "\u001b[0;32mpandas/_libs/hashtable_class_helper.pxi\u001b[0m in \u001b[0;36mpandas._libs.hashtable.PyObjectHashTable.get_item\u001b[0;34m()\u001b[0m\n",
      "\u001b[0;32mpandas/_libs/hashtable_class_helper.pxi\u001b[0m in \u001b[0;36mpandas._libs.hashtable.PyObjectHashTable.get_item\u001b[0;34m()\u001b[0m\n",
      "\u001b[0;31mKeyError\u001b[0m: 'df.sea'",
      "\nDuring handling of the above exception, another exception occurred:\n",
      "\u001b[0;31mKeyError\u001b[0m                                  Traceback (most recent call last)",
      "\u001b[0;32m<ipython-input-66-9c4972ee7c1f>\u001b[0m in \u001b[0;36m<module>\u001b[0;34m\u001b[0m\n\u001b[1;32m      3\u001b[0m \u001b[0msea\u001b[0m\u001b[0;34m=\u001b[0m\u001b[0mstateendowmenntavg\u001b[0m\u001b[0;34m.\u001b[0m\u001b[0msort_values\u001b[0m\u001b[0;34m(\u001b[0m\u001b[0mascending\u001b[0m\u001b[0;34m=\u001b[0m\u001b[0;32mFalse\u001b[0m\u001b[0;34m)\u001b[0m\u001b[0;34m.\u001b[0m\u001b[0mhead\u001b[0m\u001b[0;34m(\u001b[0m\u001b[0;36m5\u001b[0m\u001b[0;34m)\u001b[0m\u001b[0;34m\u001b[0m\u001b[0;34m\u001b[0m\u001b[0m\n\u001b[1;32m      4\u001b[0m \u001b[0;34m\u001b[0m\u001b[0m\n\u001b[0;32m----> 5\u001b[0;31m \u001b[0msns\u001b[0m\u001b[0;34m.\u001b[0m\u001b[0mbarplot\u001b[0m\u001b[0;34m(\u001b[0m\u001b[0mx\u001b[0m \u001b[0;34m=\u001b[0m \u001b[0mdf\u001b[0m\u001b[0;34m[\u001b[0m\u001b[0;34m'df.sea'\u001b[0m\u001b[0;34m]\u001b[0m\u001b[0;34m,\u001b[0m \u001b[0my\u001b[0m \u001b[0;34m=\u001b[0m \u001b[0mdf\u001b[0m\u001b[0;34m[\u001b[0m\u001b[0;34m'EndowmentperFullTimeStudent'\u001b[0m\u001b[0;34m]\u001b[0m\u001b[0;34m,\u001b[0m\u001b[0max\u001b[0m\u001b[0;34m=\u001b[0m\u001b[0max\u001b[0m\u001b[0;34m,\u001b[0m \u001b[0mci\u001b[0m \u001b[0;34m=\u001b[0m \u001b[0;32mFalse\u001b[0m\u001b[0;34m)\u001b[0m\u001b[0;34m\u001b[0m\u001b[0;34m\u001b[0m\u001b[0m\n\u001b[0m",
      "\u001b[0;32m/opt/anaconda3/lib/python3.7/site-packages/pandas/core/frame.py\u001b[0m in \u001b[0;36m__getitem__\u001b[0;34m(self, key)\u001b[0m\n\u001b[1;32m   2798\u001b[0m             \u001b[0;32mif\u001b[0m \u001b[0mself\u001b[0m\u001b[0;34m.\u001b[0m\u001b[0mcolumns\u001b[0m\u001b[0;34m.\u001b[0m\u001b[0mnlevels\u001b[0m \u001b[0;34m>\u001b[0m \u001b[0;36m1\u001b[0m\u001b[0;34m:\u001b[0m\u001b[0;34m\u001b[0m\u001b[0;34m\u001b[0m\u001b[0m\n\u001b[1;32m   2799\u001b[0m                 \u001b[0;32mreturn\u001b[0m \u001b[0mself\u001b[0m\u001b[0;34m.\u001b[0m\u001b[0m_getitem_multilevel\u001b[0m\u001b[0;34m(\u001b[0m\u001b[0mkey\u001b[0m\u001b[0;34m)\u001b[0m\u001b[0;34m\u001b[0m\u001b[0;34m\u001b[0m\u001b[0m\n\u001b[0;32m-> 2800\u001b[0;31m             \u001b[0mindexer\u001b[0m \u001b[0;34m=\u001b[0m \u001b[0mself\u001b[0m\u001b[0;34m.\u001b[0m\u001b[0mcolumns\u001b[0m\u001b[0;34m.\u001b[0m\u001b[0mget_loc\u001b[0m\u001b[0;34m(\u001b[0m\u001b[0mkey\u001b[0m\u001b[0;34m)\u001b[0m\u001b[0;34m\u001b[0m\u001b[0;34m\u001b[0m\u001b[0m\n\u001b[0m\u001b[1;32m   2801\u001b[0m             \u001b[0;32mif\u001b[0m \u001b[0mis_integer\u001b[0m\u001b[0;34m(\u001b[0m\u001b[0mindexer\u001b[0m\u001b[0;34m)\u001b[0m\u001b[0;34m:\u001b[0m\u001b[0;34m\u001b[0m\u001b[0;34m\u001b[0m\u001b[0m\n\u001b[1;32m   2802\u001b[0m                 \u001b[0mindexer\u001b[0m \u001b[0;34m=\u001b[0m \u001b[0;34m[\u001b[0m\u001b[0mindexer\u001b[0m\u001b[0;34m]\u001b[0m\u001b[0;34m\u001b[0m\u001b[0;34m\u001b[0m\u001b[0m\n",
      "\u001b[0;32m/opt/anaconda3/lib/python3.7/site-packages/pandas/core/indexes/base.py\u001b[0m in \u001b[0;36mget_loc\u001b[0;34m(self, key, method, tolerance)\u001b[0m\n\u001b[1;32m   2646\u001b[0m                 \u001b[0;32mreturn\u001b[0m \u001b[0mself\u001b[0m\u001b[0;34m.\u001b[0m\u001b[0m_engine\u001b[0m\u001b[0;34m.\u001b[0m\u001b[0mget_loc\u001b[0m\u001b[0;34m(\u001b[0m\u001b[0mkey\u001b[0m\u001b[0;34m)\u001b[0m\u001b[0;34m\u001b[0m\u001b[0;34m\u001b[0m\u001b[0m\n\u001b[1;32m   2647\u001b[0m             \u001b[0;32mexcept\u001b[0m \u001b[0mKeyError\u001b[0m\u001b[0;34m:\u001b[0m\u001b[0;34m\u001b[0m\u001b[0;34m\u001b[0m\u001b[0m\n\u001b[0;32m-> 2648\u001b[0;31m                 \u001b[0;32mreturn\u001b[0m \u001b[0mself\u001b[0m\u001b[0;34m.\u001b[0m\u001b[0m_engine\u001b[0m\u001b[0;34m.\u001b[0m\u001b[0mget_loc\u001b[0m\u001b[0;34m(\u001b[0m\u001b[0mself\u001b[0m\u001b[0;34m.\u001b[0m\u001b[0m_maybe_cast_indexer\u001b[0m\u001b[0;34m(\u001b[0m\u001b[0mkey\u001b[0m\u001b[0;34m)\u001b[0m\u001b[0;34m)\u001b[0m\u001b[0;34m\u001b[0m\u001b[0;34m\u001b[0m\u001b[0m\n\u001b[0m\u001b[1;32m   2649\u001b[0m         \u001b[0mindexer\u001b[0m \u001b[0;34m=\u001b[0m \u001b[0mself\u001b[0m\u001b[0;34m.\u001b[0m\u001b[0mget_indexer\u001b[0m\u001b[0;34m(\u001b[0m\u001b[0;34m[\u001b[0m\u001b[0mkey\u001b[0m\u001b[0;34m]\u001b[0m\u001b[0;34m,\u001b[0m \u001b[0mmethod\u001b[0m\u001b[0;34m=\u001b[0m\u001b[0mmethod\u001b[0m\u001b[0;34m,\u001b[0m \u001b[0mtolerance\u001b[0m\u001b[0;34m=\u001b[0m\u001b[0mtolerance\u001b[0m\u001b[0;34m)\u001b[0m\u001b[0;34m\u001b[0m\u001b[0;34m\u001b[0m\u001b[0m\n\u001b[1;32m   2650\u001b[0m         \u001b[0;32mif\u001b[0m \u001b[0mindexer\u001b[0m\u001b[0;34m.\u001b[0m\u001b[0mndim\u001b[0m \u001b[0;34m>\u001b[0m \u001b[0;36m1\u001b[0m \u001b[0;32mor\u001b[0m \u001b[0mindexer\u001b[0m\u001b[0;34m.\u001b[0m\u001b[0msize\u001b[0m \u001b[0;34m>\u001b[0m \u001b[0;36m1\u001b[0m\u001b[0;34m:\u001b[0m\u001b[0;34m\u001b[0m\u001b[0;34m\u001b[0m\u001b[0m\n",
      "\u001b[0;32mpandas/_libs/index.pyx\u001b[0m in \u001b[0;36mpandas._libs.index.IndexEngine.get_loc\u001b[0;34m()\u001b[0m\n",
      "\u001b[0;32mpandas/_libs/index.pyx\u001b[0m in \u001b[0;36mpandas._libs.index.IndexEngine.get_loc\u001b[0;34m()\u001b[0m\n",
      "\u001b[0;32mpandas/_libs/hashtable_class_helper.pxi\u001b[0m in \u001b[0;36mpandas._libs.hashtable.PyObjectHashTable.get_item\u001b[0;34m()\u001b[0m\n",
      "\u001b[0;32mpandas/_libs/hashtable_class_helper.pxi\u001b[0m in \u001b[0;36mpandas._libs.hashtable.PyObjectHashTable.get_item\u001b[0;34m()\u001b[0m\n",
      "\u001b[0;31mKeyError\u001b[0m: 'df.sea'"
     ]
    }
   ],
   "source": [
    "stateendowmenntavg=df.groupby('State')['EndowmentperFullTimeStudent'].mean()\n",
    "\n",
    "sea=stateendowmenntavg.sort_values(ascending=False).head(5)\n",
    "\n",
    "sns.barplot(x = df['df.sea'], y = df['EndowmentperFullTimeStudent'],ax=ax, ci = False)"
   ]
  },
  {
   "cell_type": "code",
   "execution_count": null,
   "metadata": {},
   "outputs": [],
   "source": []
  }
 ],
 "metadata": {
  "kernelspec": {
   "display_name": "Python 3",
   "language": "python",
   "name": "python3"
  },
  "language_info": {
   "codemirror_mode": {
    "name": "ipython",
    "version": 3
   },
   "file_extension": ".py",
   "mimetype": "text/x-python",
   "name": "python",
   "nbconvert_exporter": "python",
   "pygments_lexer": "ipython3",
   "version": "3.7.6"
  }
 },
 "nbformat": 4,
 "nbformat_minor": 4
}
